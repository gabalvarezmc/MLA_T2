{
 "cells": [
  {
   "cell_type": "markdown",
   "id": "c94c147b",
   "metadata": {},
   "source": [
    "### Redes Convolucionales y Keras"
   ]
  },
  {
   "cell_type": "code",
   "execution_count": 1,
   "id": "ec61a41c",
   "metadata": {},
   "outputs": [
    {
     "name": "stderr",
     "output_type": "stream",
     "text": [
      "2023-11-18 10:51:39.010731: I tensorflow/core/platform/cpu_feature_guard.cc:193] This TensorFlow binary is optimized with oneAPI Deep Neural Network Library (oneDNN) to use the following CPU instructions in performance-critical operations:  AVX2 FMA\n",
      "To enable them in other operations, rebuild TensorFlow with the appropriate compiler flags.\n",
      "2023-11-18 10:51:39.139346: E tensorflow/stream_executor/cuda/cuda_blas.cc:2981] Unable to register cuBLAS factory: Attempting to register factory for plugin cuBLAS when one has already been registered\n",
      "2023-11-18 10:51:39.642589: W tensorflow/stream_executor/platform/default/dso_loader.cc:64] Could not load dynamic library 'libnvinfer.so.7'; dlerror: libnvinfer.so.7: cannot open shared object file: No such file or directory\n",
      "2023-11-18 10:51:39.642658: W tensorflow/stream_executor/platform/default/dso_loader.cc:64] Could not load dynamic library 'libnvinfer_plugin.so.7'; dlerror: libnvinfer_plugin.so.7: cannot open shared object file: No such file or directory\n",
      "2023-11-18 10:51:39.642664: W tensorflow/compiler/tf2tensorrt/utils/py_utils.cc:38] TF-TRT Warning: Cannot dlopen some TensorRT libraries. If you would like to use Nvidia GPU with TensorRT, please make sure the missing libraries mentioned above are installed properly.\n"
     ]
    }
   ],
   "source": [
    "import keras\n",
    "import tensorflow as tf\n",
    "\n",
    "# no vamos a llamar los especificos para que tengamos claro de donde salen.\n",
    "# esto nos provocara que tengamos que meternos en el esquema de las librerias keras \n",
    "# y tensorflow"
   ]
  },
  {
   "cell_type": "code",
   "execution_count": 2,
   "id": "b8c2dfed",
   "metadata": {},
   "outputs": [],
   "source": [
    "from keras.datasets import mnist"
   ]
  },
  {
   "cell_type": "code",
   "execution_count": 3,
   "id": "f144acf3",
   "metadata": {},
   "outputs": [],
   "source": [
    "(x_train,y_train),(x_test,y_test) = mnist.load_data()"
   ]
  },
  {
   "cell_type": "code",
   "execution_count": 4,
   "id": "035501b4",
   "metadata": {},
   "outputs": [
    {
     "data": {
      "text/plain": [
       "array([[  0,   0,   0,   0,   0,   0,   0,   0,   0,   0,   0,   0,   0,\n",
       "          0,   0,   0,   0,   0,   0,   0,   0,   0,   0,   0,   0,   0,\n",
       "          0,   0],\n",
       "       [  0,   0,   0,   0,   0,   0,   0,   0,   0,   0,   0,   0,   0,\n",
       "          0,   0,   0,   0,   0,   0,   0,   0,   0,   0,   0,   0,   0,\n",
       "          0,   0],\n",
       "       [  0,   0,   0,   0,   0,   0,   0,   0,   0,   0,   0,   0,   0,\n",
       "          0,   0,   0,   0,   0,   0,   0,   0,   0,   0,   0,   0,   0,\n",
       "          0,   0],\n",
       "       [  0,   0,   0,   0,   0,   0,   0,   0,   0,   0,   0,   0,   0,\n",
       "          0,   0,   0,   0,   0,   0,   0,   0,   0,   0,   0,   0,   0,\n",
       "          0,   0],\n",
       "       [  0,   0,   0,   0,   0,   0,   0,   0,   0,   0,   0,   0,   0,\n",
       "          0,   0,   0,   0,   0,   0,   0,   0,   0,   0,   0,   0,   0,\n",
       "          0,   0],\n",
       "       [  0,   0,   0,   0,   0,   0,   0,   0,   0,   0,   0,   0,   3,\n",
       "         18,  18,  18, 126, 136, 175,  26, 166, 255, 247, 127,   0,   0,\n",
       "          0,   0],\n",
       "       [  0,   0,   0,   0,   0,   0,   0,   0,  30,  36,  94, 154, 170,\n",
       "        253, 253, 253, 253, 253, 225, 172, 253, 242, 195,  64,   0,   0,\n",
       "          0,   0],\n",
       "       [  0,   0,   0,   0,   0,   0,   0,  49, 238, 253, 253, 253, 253,\n",
       "        253, 253, 253, 253, 251,  93,  82,  82,  56,  39,   0,   0,   0,\n",
       "          0,   0],\n",
       "       [  0,   0,   0,   0,   0,   0,   0,  18, 219, 253, 253, 253, 253,\n",
       "        253, 198, 182, 247, 241,   0,   0,   0,   0,   0,   0,   0,   0,\n",
       "          0,   0],\n",
       "       [  0,   0,   0,   0,   0,   0,   0,   0,  80, 156, 107, 253, 253,\n",
       "        205,  11,   0,  43, 154,   0,   0,   0,   0,   0,   0,   0,   0,\n",
       "          0,   0],\n",
       "       [  0,   0,   0,   0,   0,   0,   0,   0,   0,  14,   1, 154, 253,\n",
       "         90,   0,   0,   0,   0,   0,   0,   0,   0,   0,   0,   0,   0,\n",
       "          0,   0],\n",
       "       [  0,   0,   0,   0,   0,   0,   0,   0,   0,   0,   0, 139, 253,\n",
       "        190,   2,   0,   0,   0,   0,   0,   0,   0,   0,   0,   0,   0,\n",
       "          0,   0],\n",
       "       [  0,   0,   0,   0,   0,   0,   0,   0,   0,   0,   0,  11, 190,\n",
       "        253,  70,   0,   0,   0,   0,   0,   0,   0,   0,   0,   0,   0,\n",
       "          0,   0],\n",
       "       [  0,   0,   0,   0,   0,   0,   0,   0,   0,   0,   0,   0,  35,\n",
       "        241, 225, 160, 108,   1,   0,   0,   0,   0,   0,   0,   0,   0,\n",
       "          0,   0],\n",
       "       [  0,   0,   0,   0,   0,   0,   0,   0,   0,   0,   0,   0,   0,\n",
       "         81, 240, 253, 253, 119,  25,   0,   0,   0,   0,   0,   0,   0,\n",
       "          0,   0],\n",
       "       [  0,   0,   0,   0,   0,   0,   0,   0,   0,   0,   0,   0,   0,\n",
       "          0,  45, 186, 253, 253, 150,  27,   0,   0,   0,   0,   0,   0,\n",
       "          0,   0],\n",
       "       [  0,   0,   0,   0,   0,   0,   0,   0,   0,   0,   0,   0,   0,\n",
       "          0,   0,  16,  93, 252, 253, 187,   0,   0,   0,   0,   0,   0,\n",
       "          0,   0],\n",
       "       [  0,   0,   0,   0,   0,   0,   0,   0,   0,   0,   0,   0,   0,\n",
       "          0,   0,   0,   0, 249, 253, 249,  64,   0,   0,   0,   0,   0,\n",
       "          0,   0],\n",
       "       [  0,   0,   0,   0,   0,   0,   0,   0,   0,   0,   0,   0,   0,\n",
       "          0,  46, 130, 183, 253, 253, 207,   2,   0,   0,   0,   0,   0,\n",
       "          0,   0],\n",
       "       [  0,   0,   0,   0,   0,   0,   0,   0,   0,   0,   0,   0,  39,\n",
       "        148, 229, 253, 253, 253, 250, 182,   0,   0,   0,   0,   0,   0,\n",
       "          0,   0],\n",
       "       [  0,   0,   0,   0,   0,   0,   0,   0,   0,   0,  24, 114, 221,\n",
       "        253, 253, 253, 253, 201,  78,   0,   0,   0,   0,   0,   0,   0,\n",
       "          0,   0],\n",
       "       [  0,   0,   0,   0,   0,   0,   0,   0,  23,  66, 213, 253, 253,\n",
       "        253, 253, 198,  81,   2,   0,   0,   0,   0,   0,   0,   0,   0,\n",
       "          0,   0],\n",
       "       [  0,   0,   0,   0,   0,   0,  18, 171, 219, 253, 253, 253, 253,\n",
       "        195,  80,   9,   0,   0,   0,   0,   0,   0,   0,   0,   0,   0,\n",
       "          0,   0],\n",
       "       [  0,   0,   0,   0,  55, 172, 226, 253, 253, 253, 253, 244, 133,\n",
       "         11,   0,   0,   0,   0,   0,   0,   0,   0,   0,   0,   0,   0,\n",
       "          0,   0],\n",
       "       [  0,   0,   0,   0, 136, 253, 253, 253, 212, 135, 132,  16,   0,\n",
       "          0,   0,   0,   0,   0,   0,   0,   0,   0,   0,   0,   0,   0,\n",
       "          0,   0],\n",
       "       [  0,   0,   0,   0,   0,   0,   0,   0,   0,   0,   0,   0,   0,\n",
       "          0,   0,   0,   0,   0,   0,   0,   0,   0,   0,   0,   0,   0,\n",
       "          0,   0],\n",
       "       [  0,   0,   0,   0,   0,   0,   0,   0,   0,   0,   0,   0,   0,\n",
       "          0,   0,   0,   0,   0,   0,   0,   0,   0,   0,   0,   0,   0,\n",
       "          0,   0],\n",
       "       [  0,   0,   0,   0,   0,   0,   0,   0,   0,   0,   0,   0,   0,\n",
       "          0,   0,   0,   0,   0,   0,   0,   0,   0,   0,   0,   0,   0,\n",
       "          0,   0]], dtype=uint8)"
      ]
     },
     "execution_count": 4,
     "metadata": {},
     "output_type": "execute_result"
    }
   ],
   "source": [
    "x_train[0]"
   ]
  },
  {
   "cell_type": "code",
   "execution_count": 5,
   "id": "1d1c2715",
   "metadata": {},
   "outputs": [],
   "source": [
    "#dimensiones de trabajo\n",
    "img_rows,img_cols = 28,28"
   ]
  },
  {
   "cell_type": "code",
   "execution_count": 8,
   "metadata": {},
   "outputs": [
    {
     "data": {
      "text/plain": [
       "'channels_last'"
      ]
     },
     "execution_count": 8,
     "metadata": {},
     "output_type": "execute_result"
    }
   ],
   "source": [
    "tf.keras.backend.image_data_format()"
   ]
  },
  {
   "cell_type": "code",
   "execution_count": 7,
   "id": "2f0754a0",
   "metadata": {},
   "outputs": [],
   "source": [
    "batch_size = 128\n",
    "num_classes=10\n",
    "epochs=12"
   ]
  },
  {
   "cell_type": "code",
   "execution_count": 9,
   "id": "35c2287a",
   "metadata": {},
   "outputs": [
    {
     "name": "stdout",
     "output_type": "stream",
     "text": [
      "x_train shape: (60000, 28, 28, 1)\n",
      "60000 train samples\n",
      "10000 test samples\n"
     ]
    }
   ],
   "source": [
    "if tf.keras.backend.image_data_format() == 'channels_first':\n",
    "    x_train = x_train.reshape(x_train.shape[0],img_rows,img_cols)\n",
    "    x_test = x_test.reshape(x_test.shape[0],img_rows,img_cols)\n",
    "    input_shape = (1,img_rows,img_cols)\n",
    "else:\n",
    "    x_train = x_train.reshape(x_train.shape[0],img_rows,img_cols,1)\n",
    "    x_test = x_test.reshape(x_test.shape[0],img_rows,img_cols,1)\n",
    "    input_shape = (img_rows,img_cols,1)\n",
    "\n",
    "x_train = x_train.astype('float32')\n",
    "x_test = x_test.astype('float32')\n",
    "x_train /= 255\n",
    "x_test /= 255\n",
    "print('x_train shape:',x_train.shape)\n",
    "print(x_train.shape[0], 'train samples')\n",
    "print(x_test.shape[0], 'test samples')\n",
    "\n",
    "#convierte vectores de clase en binarios\n",
    "y_train = keras.utils.to_categorical(y_train,num_classes)\n",
    "y_test = keras.utils.to_categorical(y_test,num_classes)"
   ]
  },
  {
   "cell_type": "code",
   "execution_count": 11,
   "id": "60921da6",
   "metadata": {},
   "outputs": [],
   "source": [
    "## Primero, el modelo es secuencial\n",
    "model = keras.models.Sequential()\n",
    "units = 20\n",
    "input_dim = input_shape\n",
    "## agregamos capa convolucional 2D\n",
    "model.add(\n",
    "    tf.keras.layers.Conv2D(\n",
    "        32,\n",
    "        kernel_size=(3,3),\n",
    "        activation='relu',\n",
    "        input_shape = input_shape\n",
    "    )\n",
    ")\n",
    "\n",
    "## agregamos segunda capa convolucional 2D\n",
    "model.add(\n",
    "    tf.keras.layers.Conv2D(\n",
    "        64,\n",
    "        kernel_size=(3,3),\n",
    "        activation='relu'\n",
    "    )\n",
    ")\n",
    "\n",
    "#model.add(\n",
    "#    keras.layers.LSTM(units, input_shape=(None, input_dim))\n",
    "#)\n",
    "## agregamos capa de Pooling\n",
    "model.add(\n",
    "    tf.keras.layers.MaxPooling2D(\n",
    "        pool_size=(2,2)\n",
    "    )\n",
    ")\n",
    "\n",
    "## agregamos capa de regularizacion Dropout para minimizar calculos\n",
    "model.add(\n",
    "    tf.keras.layers.Dropout(\n",
    "        0.25\n",
    "    )\n",
    ")\n",
    "\n",
    "## agregamos capa de aplanado\n",
    "model.add(\n",
    "    tf.keras.layers.Flatten())\n",
    "\n",
    "## agregamos capa de conexion completa\n",
    "model.add(\n",
    "    tf.keras.layers.Dense(\n",
    "        units=128,\n",
    "        activation='relu'\n",
    "    )\n",
    ")\n",
    "\n",
    "## agregamos capa de regularizacion Dropout para minimizar calculos\n",
    "model.add(\n",
    "    tf.keras.layers.Dropout(\n",
    "        0.5\n",
    "    )\n",
    ")\n",
    "\n",
    "## agregamos capa de conexion completa\n",
    "model.add(\n",
    "    tf.keras.layers.Dense(\n",
    "        units=num_classes,\n",
    "        activation='softmax'\n",
    "    )\n",
    ")\n"
   ]
  },
  {
   "cell_type": "code",
   "execution_count": null,
   "id": "14399a84",
   "metadata": {},
   "outputs": [],
   "source": [
    "model.compile(loss=keras.losses.categorical_crossentropy,\n",
    "             optimizer = keras.optimizers.Adadelta(),\n",
    "             metrics=['accuracy'])"
   ]
  },
  {
   "cell_type": "code",
   "execution_count": null,
   "id": "8be2d5fa",
   "metadata": {},
   "outputs": [],
   "source": [
    "model.fit(\n",
    "    x_train,y_train,\n",
    "batch_size=batch_size,\n",
    "epochs=epochs,\n",
    "verbose = 1,\n",
    "validation_data=(x_test,y_test)\n",
    ")\n",
    "\n",
    "score = model.evaluate(x_test,y_test,verbose = 0)\n",
    "print('Test loss: ',score[0])\n",
    "print('Test accuracy: ',score[1])"
   ]
  },
  {
   "cell_type": "code",
   "execution_count": null,
   "id": "f98cf87b",
   "metadata": {},
   "outputs": [],
   "source": [
    "#!pip install tensorflow-gpu\n",
    "#import tensorflow as tf"
   ]
  },
  {
   "cell_type": "code",
   "execution_count": null,
   "id": "070ce6de",
   "metadata": {},
   "outputs": [],
   "source": [
    "print(\"Num GPUs Available: \", len(tensorflow.config.list_physical_devices('GPU')))\n"
   ]
  },
  {
   "cell_type": "code",
   "execution_count": null,
   "id": "34366ec8",
   "metadata": {},
   "outputs": [],
   "source": [
    "tf.debugging.set_log_device_placement(True)\n",
    "\n",
    "# Create some tensors\n",
    "a = tf.constant([[1.0, 2.0, 3.0], [4.0, 5.0, 6.0]])\n",
    "b = tf.constant([[1.0, 2.0], [3.0, 4.0], [5.0, 6.0]])\n",
    "c = tf.matmul(a, b)\n",
    "\n",
    "print(c)\n"
   ]
  },
  {
   "cell_type": "code",
   "execution_count": null,
   "id": "73752663",
   "metadata": {},
   "outputs": [],
   "source": [
    "model.fit(\n",
    "    x_train,y_train,\n",
    "batch_size=batch_size,\n",
    "epochs=epochs,\n",
    "verbose = 1,\n",
    "validation_data=(x_test,y_test))\n",
    "\n",
    "score = model.evaluate(x_test,y_test,verbose = 0)\n",
    "print('Test loss: ',score[0])\n",
    "print('Test accuracy: ',score[1])"
   ]
  },
  {
   "cell_type": "code",
   "execution_count": null,
   "id": "14fed158",
   "metadata": {},
   "outputs": [],
   "source": [
    "import matplotlib.pyplot as plt"
   ]
  },
  {
   "cell_type": "code",
   "execution_count": null,
   "id": "3dfb2720",
   "metadata": {},
   "outputs": [],
   "source": [
    "for i in range(9):\n",
    "    plt.subplot(330 + 1 + i)\n",
    "    plt.imshow(x_train[i], cmap=plt.get_cmap('gray'))\n",
    "    plt.show()"
   ]
  },
  {
   "cell_type": "code",
   "execution_count": null,
   "id": "ba58e1a0",
   "metadata": {},
   "outputs": [],
   "source": [
    "xpreds = model.predict(x_test)\n",
    "xpreds.shape"
   ]
  },
  {
   "cell_type": "code",
   "execution_count": null,
   "id": "c7d2f1ef",
   "metadata": {},
   "outputs": [],
   "source": [
    "import numpy as np\n",
    "for i in range(9):\n",
    "    plt.subplot(330 + 1 + i)\n",
    "    plt.imshow(x_test[i], cmap=plt.get_cmap('gray'))\n",
    "    print(np.argmax(xpreds[i]), y_test[i])"
   ]
  },
  {
   "cell_type": "code",
   "execution_count": null,
   "id": "c8fa43c6",
   "metadata": {},
   "outputs": [],
   "source": [
    "## Primero, el modelo es secuencial\n",
    "model = keras.models.Sequential()\n",
    "\n",
    "## agregamos capa convolucional 2D\n",
    "model.add(\n",
    "    tf.keras.layers.Conv2D(\n",
    "        32,\n",
    "        kernel_size=(3,3),\n",
    "        activation='relu',\n",
    "        input_shape = input_shape\n",
    "    )\n",
    ")\n",
    "\n",
    "## agregamos segunda capa convolucional 2D\n",
    "model.add(\n",
    "    tf.keras.layers.Conv2D(\n",
    "        64,\n",
    "        kernel_size=(3,3),\n",
    "        activation='relu'\n",
    "    )\n",
    ")\n",
    "\n",
    "## agregamos capa de Pooling\n",
    "model.add(\n",
    "    tf.keras.layers.MaxPooling2D(\n",
    "        pool_size=(2,2)\n",
    "    )\n",
    ")\n",
    "\n",
    "## agregamos capa convolucional 2D\n",
    "model.add(\n",
    "    tf.keras.layers.Conv2D(\n",
    "        64,\n",
    "        kernel_size=(3,3),\n",
    "        activation='relu',\n",
    "        input_shape = input_shape\n",
    "    )\n",
    ")\n",
    "\n",
    "\n",
    "## agregamos capa de Pooling\n",
    "model.add(\n",
    "    tf.keras.layers.MaxPooling2D(\n",
    "        pool_size=(2,2)\n",
    "    )\n",
    ")\n",
    "\n",
    "## agregamos capa de regularizacion Dropout para minimizar calculos\n",
    "model.add(\n",
    "    tf.keras.layers.Dropout(\n",
    "        0.25\n",
    "    )\n",
    ")\n",
    "\n",
    "## agregamos capa de aplanado\n",
    "model.add(\n",
    "    tf.keras.layers.Flatten())\n",
    "\n",
    "## agregamos capa de conexion completa\n",
    "model.add(\n",
    "    tf.keras.layers.Dense(\n",
    "        units=128,\n",
    "        activation='relu'\n",
    "    )\n",
    ")\n",
    "\n",
    "## agregamos capa de regularizacion Dropout para minimizar calculos\n",
    "model.add(\n",
    "    tensorflow.keras.layers.Dropout(\n",
    "        0.5\n",
    "    )\n",
    ")\n",
    "\n",
    "## agregamos capa de conexion completa\n",
    "model.add(\n",
    "    tensorflow.keras.layers.Dense(\n",
    "        units=num_classes,\n",
    "        activation='softmax'\n",
    "    )\n",
    ")\n"
   ]
  },
  {
   "cell_type": "code",
   "execution_count": null,
   "id": "a998eeaa",
   "metadata": {},
   "outputs": [],
   "source": [
    "model.compile(loss=keras.losses.categorical_crossentropy,\n",
    "             optimizer = keras.optimizers.Adadelta(),\n",
    "             metrics=['accuracy'])"
   ]
  },
  {
   "cell_type": "code",
   "execution_count": null,
   "id": "5d11e44f",
   "metadata": {},
   "outputs": [],
   "source": [
    "model.fit(\n",
    "    x_train,y_train,\n",
    "batch_size=batch_size,\n",
    "epochs=epochs,\n",
    "verbose = 1,\n",
    "validation_data=(x_test,y_test))\n",
    "\n",
    "score = model.evaluate(x_test,y_test,verbose = 0)\n",
    "print('Test loss: ',score[0])\n",
    "print('Test accuracy: ',score[1])"
   ]
  },
  {
   "cell_type": "code",
   "execution_count": null,
   "id": "45e6e0bf",
   "metadata": {},
   "outputs": [],
   "source": [
    "xpreds = model.predict(x_test)\n",
    "for i in range(9):\n",
    "    plt.subplot(330 + 1 + i)\n",
    "    plt.imshow(x_test[i], cmap=plt.get_cmap('gray'))\n",
    "    print(np.argmax(xpreds[i]), np.argmax(y_test[i]))"
   ]
  },
  {
   "cell_type": "code",
   "execution_count": null,
   "id": "c8ad8fef",
   "metadata": {},
   "outputs": [],
   "source": [
    "y_test[100]"
   ]
  },
  {
   "cell_type": "code",
   "execution_count": null,
   "id": "e392fb93",
   "metadata": {},
   "outputs": [],
   "source": [
    "arg = model.predict(x_test[[100]])\n",
    "print(np.argmax(arg), y_test[i])"
   ]
  },
  {
   "cell_type": "code",
   "execution_count": null,
   "id": "c7e8df03",
   "metadata": {},
   "outputs": [],
   "source": [
    "plt.imshow(x_test[100], cmap=plt.get_cmap('gray'))"
   ]
  },
  {
   "cell_type": "code",
   "execution_count": null,
   "id": "09ce5d6d",
   "metadata": {},
   "outputs": [],
   "source": [
    "file = '/media/tom/Fonte Storage/00 Clases/UDD/MLA/Laboratorios/IMG_0872.jpg'"
   ]
  },
  {
   "cell_type": "code",
   "execution_count": null,
   "id": "a4810a0f",
   "metadata": {},
   "outputs": [],
   "source": [
    "import cv2\n",
    "#from PIL import Image\n",
    "\n",
    "#im = Image.open(file)\n",
    "im = cv2.imread(file,cv2.IMREAD_GRAYSCALE)\n",
    "plt.imshow(im, cmap=plt.get_cmap('gray'))"
   ]
  },
  {
   "cell_type": "code",
   "execution_count": null,
   "metadata": {},
   "outputs": [],
   "source": [
    "im_resized = cv2.resize(im,(28,28),interpolation = cv2.INTER_LINEAR)\n",
    "im_resized = cv2.bitwise_not(im_resized)\n",
    "\n",
    "plt.imshow(im_resized,cmap='gray')"
   ]
  },
  {
   "cell_type": "code",
   "execution_count": null,
   "metadata": {},
   "outputs": [],
   "source": [
    "im_resized = im_resized.astype('float32')\n",
    "im_resized /= 255\n",
    "\n",
    "imir = im_resized.reshape(1,img_rows,img_cols,1)\n",
    "input_shape = (img_rows,img_cols,1)\n",
    "\n",
    "imir = imir.astype('float32')\n",
    "imir /= 255\n",
    "print('x_train shape:',imir.shape)\n",
    "print(imir.shape[0], 'train samples')\n",
    "\n",
    "arg = model.predict(imir)\n",
    "np.argmax(arg)"
   ]
  },
  {
   "cell_type": "code",
   "execution_count": null,
   "metadata": {},
   "outputs": [],
   "source": []
  },
  {
   "cell_type": "code",
   "execution_count": null,
   "metadata": {},
   "outputs": [],
   "source": []
  }
 ],
 "metadata": {
  "kernelspec": {
   "display_name": "Python 3 (ipykernel)",
   "language": "python",
   "name": "python3"
  },
  "language_info": {
   "codemirror_mode": {
    "name": "ipython",
    "version": 3
   },
   "file_extension": ".py",
   "mimetype": "text/x-python",
   "name": "python",
   "nbconvert_exporter": "python",
   "pygments_lexer": "ipython3",
   "version": "3.10.6"
  }
 },
 "nbformat": 4,
 "nbformat_minor": 5
}
