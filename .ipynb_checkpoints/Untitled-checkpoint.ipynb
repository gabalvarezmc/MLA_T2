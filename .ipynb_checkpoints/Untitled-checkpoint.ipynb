{
 "cells": [
  {
   "cell_type": "code",
   "execution_count": null,
   "id": "8088f039-537f-4918-9c90-3525420f10fa",
   "metadata": {},
   "outputs": [],
   "source": [
    "import tensorflow as tf\n",
    "from tensorflow.keras.models import Sequential\n",
    "from tensorflow.keras.layers import Dense, Flatten\n",
    "from tensorflow.keras.optimizers import Adam\n",
    "from tensorflow.keras.preprocessing.image import ImageDataGenerator\n",
    "import numpy as np\n",
    "import os\n",
    "from sklearn.model_selection import train_test_split"
   ]
  },
  {
   "cell_type": "code",
   "execution_count": null,
   "id": "215de378-678a-4d93-8fd7-8225e023f469",
   "metadata": {},
   "outputs": [],
   "source": [
    "image_dir = \"path_to_dataset\"  # Cambia esta ruta a la carpeta donde tengas las imágenes\n",
    "img_size = (64, 64)  # Tamaño uniforme para las imágenes"
   ]
  },
  {
   "cell_type": "code",
   "execution_count": null,
   "id": "7c70d5c6-aa00-4bd4-8d4c-d7b2566f6e70",
   "metadata": {},
   "outputs": [],
   "source": [
    "# Generador de datos\n",
    "datagen = ImageDataGenerator(rescale=1./255)\n",
    "data = datagen.flow_from_directory(image_dir, target_size=img_size, batch_size=1000, class_mode='binary')\n"
   ]
  },
  {
   "cell_type": "code",
   "execution_count": null,
   "id": "e5532a9a-783a-4fcb-b6bc-5fb7df49da50",
   "metadata": {},
   "outputs": [],
   "source": [
    "# Carga imágenes y etiquetas\n",
    "images, labels = next(data)\n",
    "X = images.reshape(images.shape[0], -1)  # Aplanar imágenes\n",
    "y = labels\n"
   ]
  },
  {
   "cell_type": "code",
   "execution_count": null,
   "id": "a274d9c5-1312-4342-80d5-bb4a99b0ce75",
   "metadata": {},
   "outputs": [],
   "source": [
    "X_train, X_test, y_train, y_test = train_test_split(X, y, test_size=0.2, random_state=42)"
   ]
  },
  {
   "cell_type": "code",
   "execution_count": null,
   "id": "7b2b9c04-0ded-4561-89a7-03d08aef4d7d",
   "metadata": {},
   "outputs": [],
   "source": [
    "# Modelo Perceptron multicapa\n",
    "model = Sequential([\n",
    "    Dense(256, activation='relu', input_shape=(X_train.shape[1],)),\n",
    "    Dense(128, activation='relu'),\n",
    "    Dense(64, activation='relu'),\n",
    "    Dense(1, activation='sigmoid')  # Para clasificación binaria\n",
    "])\n",
    "\n",
    "model.compile(optimizer=Adam(learning_rate=0.001),\n",
    "              loss='binary_crossentropy',\n",
    "              metrics=['accuracy'])"
   ]
  },
  {
   "cell_type": "code",
   "execution_count": null,
   "id": "414e4f06-3337-41c0-9000-05edf0b7e998",
   "metadata": {},
   "outputs": [],
   "source": [
    "history = model.fit(X_train, y_train, epochs=10, validation_split=0.2, batch_size=32)"
   ]
  },
  {
   "cell_type": "code",
   "execution_count": null,
   "id": "79c298f3-de9b-44ce-b237-784581279458",
   "metadata": {},
   "outputs": [],
   "source": [
    "test_loss, test_accuracy = model.evaluate(X_test, y_test)\n",
    "print(f\"Precisión en prueba: {test_accuracy:.2f}\")\n",
    "\n",
    "# Predicciones\n",
    "predictions = (model.predict(X_test) > 0.5).astype(\"int32\")"
   ]
  }
 ],
 "metadata": {
  "kernelspec": {
   "display_name": "Python 3 (ipykernel)",
   "language": "python",
   "name": "python3"
  },
  "language_info": {
   "codemirror_mode": {
    "name": "ipython",
    "version": 3
   },
   "file_extension": ".py",
   "mimetype": "text/x-python",
   "name": "python",
   "nbconvert_exporter": "python",
   "pygments_lexer": "ipython3",
   "version": "3.11.7"
  }
 },
 "nbformat": 4,
 "nbformat_minor": 5
}
